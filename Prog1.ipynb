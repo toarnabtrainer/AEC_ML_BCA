{
 "cells": [
  {
   "cell_type": "code",
   "execution_count": 5,
   "id": "f4540c3b-b6c9-4437-92fd-385832383688",
   "metadata": {},
   "outputs": [
    {
     "name": "stdin",
     "output_type": "stream",
     "text": [
      "Please enter the first number:  100\n",
      "Please enter the second number:  400\n"
     ]
    },
    {
     "name": "stdout",
     "output_type": "stream",
     "text": [
      "500\n",
      "100 <class 'int'> 400 <class 'int'> 500 <class 'int'>\n"
     ]
    }
   ],
   "source": [
    "num1 = int(input(\"Please enter the first number: \"))\n",
    "num2 = int(input(\"Please enter the second number: \"))\n",
    "total = num1 + num2\n",
    "print (total)\n",
    "print (num1, type(num1), num2, type(num2), total, type(total))"
   ]
  },
  {
   "cell_type": "code",
   "execution_count": 18,
   "id": "094b24ba-e5ec-4af8-be7e-b115c847eea7",
   "metadata": {},
   "outputs": [
    {
     "name": "stdout",
     "output_type": "stream",
     "text": [
      "So 100 + 400 = 500\n",
      "So 100 + 400 = 500\n",
      "So 100 + 400 = 500\n",
      "So 100 + 400 = 500\n",
      "So 100 + 400 = 500\n",
      "So 100 + 400 = 500\n",
      "So 100 + 400 = 500\n",
      "So 100 + 400 = 500\n",
      "So   100.00 + 400.000000 = 500\n",
      "So 100 + 400 = 500\n"
     ]
    }
   ],
   "source": [
    "print (\"So\", num1, \"+\", num2, \"=\", total)\n",
    "print (\"So \" + str(num1) + \" + \" + str(num2) + \" = \" + str(total))\n",
    "print (\"So {} + {} = {}\".format(num1, num2, total))  # place holder\n",
    "print (\"So {0} + {1} = {2}\".format(num1, num2, total))   # numbered place holder\n",
    "print (\"So {2} + {1} = {0}\".format(total, num2, num1))   # numbered place holder\n",
    "print (\"So {fnum} + {snum} = {tot}\".format(fnum = num1, snum = num2, tot = total))   # labeled place holder\n",
    "print (\"So {fnum} + {snum} = {tot}\".format(snum = num2, fnum = num1, tot = total))   # labeled place holder\n",
    "print (\"So %d + %d = %d\"%(num1, num2, total))\n",
    "print (\"So %8.2f + %f = %d\"%(num1, num2, total))\n",
    "print (f\"So {num1} + {num2} = {total}\")"
   ]
  },
  {
   "cell_type": "code",
   "execution_count": 26,
   "id": "0e6ea93a-52d5-4ffd-8dc1-937a61a7ff57",
   "metadata": {},
   "outputs": [
    {
     "name": "stdin",
     "output_type": "stream",
     "text": [
      "Please enter the first number:  100\n",
      "Please enter the second number:  40\n"
     ]
    },
    {
     "name": "stdout",
     "output_type": "stream",
     "text": [
      "1 >  A D D I T I O N  O P E R A T I O N ...\n",
      "2 >  S U B T R A C T I O N  O P E R A T I O N ...\n",
      "3 >  M U L T I P L I C A T I O N  O P E R A T I O N ...\n",
      "4 >  D I V I S I O N  O P E R A T I O N ...\n",
      "5 >  M O D U L U S  O P E R A T I O N ...\n"
     ]
    },
    {
     "name": "stdin",
     "output_type": "stream",
     "text": [
      "Please enter your choice number:  5\n"
     ]
    },
    {
     "name": "stdout",
     "output_type": "stream",
     "text": [
      "Performing the modulus operation...\n",
      "So 100 % 40 = 20...\n",
      "End of the program...\n"
     ]
    }
   ],
   "source": [
    "# calculator program\n",
    "num1 = int(input(\"Please enter the first number: \"))\n",
    "num2 = int(input(\"Please enter the second number: \"))\n",
    "print (\"1 >  A D D I T I O N  O P E R A T I O N ...\")\n",
    "print (\"2 >  S U B T R A C T I O N  O P E R A T I O N ...\")\n",
    "print (\"3 >  M U L T I P L I C A T I O N  O P E R A T I O N ...\")\n",
    "print (\"4 >  D I V I S I O N  O P E R A T I O N ...\")\n",
    "print (\"5 >  M O D U L U S  O P E R A T I O N ...\")\n",
    "choice = int(input(\"Please enter your choice number: \"))\n",
    "if (choice == 1):\n",
    "    print (\"Performing the addition operation...\")\n",
    "    result = num1 + num2\n",
    "    print (f\"So {num1} + {num2} = {result}...\")\n",
    "elif (choice == 2):\n",
    "    print (\"Performing the subtraction operation...\")\n",
    "    result = num1 - num2\n",
    "    print (f\"So {num1} - {num2} = {result}...\")\n",
    "elif (choice == 3):\n",
    "    print (\"Performing the multiplication operation...\")\n",
    "    result = num1 * num2\n",
    "    print (f\"So {num1} * {num2} = {result}...\")\n",
    "elif (choice == 4):\n",
    "    print (\"Performing the division operation...\")\n",
    "    if (num2 == 0):\n",
    "        print (\"Division by ZERO is Illegal...\")\n",
    "        print (\"Division operation can not be performed...\")\n",
    "    else:\n",
    "        result = num1 / num2\n",
    "        print (f\"So {num1} / {num2} = {result}...\")\n",
    "elif (choice == 5):\n",
    "    print (\"Performing the modulus operation...\")\n",
    "    result = num1 % num2\n",
    "    print (f\"So {num1} % {num2} = {result}...\")\n",
    "else:\n",
    "    print (\"Wrong choice number has been provided...\")\n",
    "print (\"End of the program...\")"
   ]
  },
  {
   "cell_type": "code",
   "execution_count": 29,
   "id": "c24bb8e7-c06b-445a-9a7c-7d65e78bbdb2",
   "metadata": {},
   "outputs": [
    {
     "name": "stdin",
     "output_type": "stream",
     "text": [
      "Please enter the first number:  200\n",
      "Please enter the second number:  100\n",
      "Please enter the third number:  300\n"
     ]
    },
    {
     "name": "stdout",
     "output_type": "stream",
     "text": [
      "So the third number is the maximum number...\n",
      "So the maximum number is 300...\n",
      "End of the program...\n"
     ]
    }
   ],
   "source": [
    "# find the maximum of three user input integer numbers\n",
    "num1 = int(input(\"Please enter the first number: \"))\n",
    "num2 = int(input(\"Please enter the second number: \"))\n",
    "num3 = int(input(\"Please enter the third number: \"))\n",
    "if (num1 > num2):\n",
    "    if (num1 > num3):\n",
    "        print (\"So the first number is the maximum number...\")\n",
    "        print (f\"So the maximum number is {num1}...\")\n",
    "    else:\n",
    "        print (\"So the third number is the maximum number...\")\n",
    "        print (f\"So the maximum number is {num3}...\")\n",
    "elif (num2 > num3):\n",
    "    print (\"So the second number is the maximum number...\")\n",
    "    print (f\"So the maximum number is {num2}...\")\n",
    "else:\n",
    "    print (\"So the third number is the maximum number...\")\n",
    "    print (f\"So the maximum number is {num3}...\")\n",
    "print (\"End of the program...\")"
   ]
  },
  {
   "cell_type": "code",
   "execution_count": 32,
   "id": "e7e4e32d-586a-45c0-a2f0-9129eda0b2ee",
   "metadata": {},
   "outputs": [
    {
     "name": "stdin",
     "output_type": "stream",
     "text": [
      "Please enter the first number:  200\n",
      "Please enter the second number:  100\n",
      "Please enter the third number:  300\n"
     ]
    },
    {
     "name": "stdout",
     "output_type": "stream",
     "text": [
      "So the third number is the maximum number...\n",
      "So the maximum number is 300...\n",
      "End of the program...\n"
     ]
    }
   ],
   "source": [
    "# find the maximum of three user input integer numbers\n",
    "num1 = int(input(\"Please enter the first number: \"))\n",
    "num2 = int(input(\"Please enter the second number: \"))\n",
    "num3 = int(input(\"Please enter the third number: \"))\n",
    "if (num1 > num2 and num1 > num3):\n",
    "        print (\"So the first number is the maximum number...\")\n",
    "        print (f\"So the maximum number is {num1}...\")\n",
    "elif (num2 > num3):\n",
    "    print (\"So the second number is the maximum number...\")\n",
    "    print (f\"So the maximum number is {num2}...\")\n",
    "else:\n",
    "    print (\"So the third number is the maximum number...\")\n",
    "    print (f\"So the maximum number is {num3}...\")\n",
    "print (\"End of the program...\")"
   ]
  },
  {
   "cell_type": "code",
   "execution_count": 34,
   "id": "78e2cb79-d1b4-44b4-8bcf-9933b54dcb9e",
   "metadata": {},
   "outputs": [
    {
     "name": "stdin",
     "output_type": "stream",
     "text": [
      "Please enter one integer:  101\n"
     ]
    },
    {
     "name": "stdout",
     "output_type": "stream",
     "text": [
      "101 is a PRIME number...\n",
      "End of the program...\n"
     ]
    }
   ],
   "source": [
    "# for with the else block\n",
    "# to check whether a given number is PRIME or not\n",
    "num = int(input(\"Please enter one integer: \"))\n",
    "for i in range(2, num):\n",
    "    if (num % i == 0):\n",
    "        print (f\"{num} is not a PRIME number...\")\n",
    "        break\n",
    "else:\n",
    "    print (f\"{num} is a PRIME number...\")\n",
    "print (\"End of the program...\")"
   ]
  },
  {
   "cell_type": "code",
   "execution_count": 36,
   "id": "f805abf1-11d4-4a40-bf57-fc55462b87ed",
   "metadata": {},
   "outputs": [
    {
     "name": "stdin",
     "output_type": "stream",
     "text": [
      "Please enter one integer:  101\n"
     ]
    },
    {
     "name": "stdout",
     "output_type": "stream",
     "text": [
      "101 is a PRIME number...\n",
      "End of the program...\n"
     ]
    }
   ],
   "source": [
    "# while with the else block\n",
    "# to check whether a given number is PRIME or not\n",
    "num = int(input(\"Please enter one integer: \"))\n",
    "i = 2\n",
    "while (i < num):\n",
    "    if (num % i == 0):\n",
    "        print (f\"{num} is not a PRIME number...\")\n",
    "        break\n",
    "    i = i + 1\n",
    "else:\n",
    "    print (f\"{num} is a PRIME number...\")\n",
    "print (\"End of the program...\")"
   ]
  },
  {
   "cell_type": "code",
   "execution_count": 38,
   "id": "5b7de74a-60d2-43ba-92e6-01225e007ab2",
   "metadata": {},
   "outputs": [
    {
     "name": "stdout",
     "output_type": "stream",
     "text": [
      "Visit Doctor...\n",
      "Good morning...\n",
      "Day number - 1 and medicine number - 1...\n",
      "Day number - 1 and medicine number - 2...\n",
      "Day number - 1 and medicine number - 3...\n",
      "Good night...\n",
      "----------------------------------------------\n",
      "Good morning...\n",
      "Day number - 2 and medicine number - 1...\n",
      "Day number - 2 and medicine number - 2...\n",
      "Day number - 2 and medicine number - 3...\n",
      "Good night...\n",
      "----------------------------------------------\n",
      "Good morning...\n",
      "Day number - 3 and medicine number - 1...\n",
      "Day number - 3 and medicine number - 2...\n",
      "Day number - 3 and medicine number - 3...\n",
      "Good night...\n",
      "----------------------------------------------\n",
      "Good morning...\n",
      "Day number - 4 and medicine number - 1...\n",
      "Day number - 4 and medicine number - 2...\n",
      "Day number - 4 and medicine number - 3...\n",
      "Good night...\n",
      "----------------------------------------------\n",
      "Good morning...\n",
      "Day number - 5 and medicine number - 1...\n",
      "Day number - 5 and medicine number - 2...\n",
      "Day number - 5 and medicine number - 3...\n",
      "Good night...\n",
      "----------------------------------------------\n",
      "So total number of medicines consumed is 15...\n",
      "Thanks to Doctor...\n",
      "End of the program...\n"
     ]
    }
   ],
   "source": [
    "# example on nested loops\n",
    "print (\"Visit Doctor...\")\n",
    "medicount = 0\n",
    "for day in range(1, 6):\n",
    "    print (\"Good morning...\")\n",
    "    for medi in range(1, 4):\n",
    "        print (f\"Day number - {day} and medicine number - {medi}...\")\n",
    "        medicount += 1\n",
    "    print (\"Good night...\")\n",
    "    print (\"----------------------------------------------\")\n",
    "print (f\"So total number of medicines consumed is {medicount}...\")\n",
    "print (\"Thanks to Doctor...\")\n",
    "print (\"End of the program...\")"
   ]
  },
  {
   "cell_type": "code",
   "execution_count": 41,
   "id": "161a4226-4b90-485a-9715-0bf9f350290f",
   "metadata": {},
   "outputs": [
    {
     "name": "stdout",
     "output_type": "stream",
     "text": [
      "Hello Hello Hello \n",
      "Welcome Welcome Welcome Welcome Welcome \n"
     ]
    }
   ],
   "source": [
    "print (\"Hello \" * 3)\n",
    "print (\"Welcome \" * 5)"
   ]
  },
  {
   "cell_type": "code",
   "execution_count": null,
   "id": "5228a8e3-0c38-4c79-825c-bde30fc4cd40",
   "metadata": {},
   "outputs": [],
   "source": [
    "# pattern print - 1\n",
    "n = 6 (User given)\n",
    "               i    .    *\n",
    "             ---------------\n",
    ".....*         1    5    1\n",
    "....***        2    4    3       (i, n)\n",
    "...*****       3    3    5  . => (n - i)\n",
    "..*******      4    2    7\n",
    ".*********     5    1    9  * => (2 * i - 1)\n",
    "***********    6    0   11\n",
    "             ---------------\n",
    "             Tracing Table"
   ]
  },
  {
   "cell_type": "code",
   "execution_count": 44,
   "id": "fa84b0a0-dff9-4bde-97cb-a4756ca28ee0",
   "metadata": {},
   "outputs": [
    {
     "name": "stdin",
     "output_type": "stream",
     "text": [
      "Please enter the number of layers:  8\n"
     ]
    },
    {
     "name": "stdout",
     "output_type": "stream",
     "text": [
      ".......*\n",
      "......***\n",
      ".....*****\n",
      "....*******\n",
      "...*********\n",
      "..***********\n",
      ".*************\n",
      "***************\n"
     ]
    }
   ],
   "source": [
    "n = int(input(\"Please enter the number of layers: \"))\n",
    "for i in range(1, n + 1):\n",
    "    print (\".\" * (n - i) + \"*\" * (2 * i - 1))"
   ]
  },
  {
   "cell_type": "code",
   "execution_count": 48,
   "id": "cbbd2ec8-c791-4a65-aff6-4fc88f85e386",
   "metadata": {},
   "outputs": [
    {
     "name": "stdout",
     "output_type": "stream",
     "text": [
      "10.5\n",
      "10\n"
     ]
    }
   ],
   "source": [
    "print (21 / 2)\n",
    "print (21 // 2)"
   ]
  },
  {
   "cell_type": "code",
   "execution_count": null,
   "id": "c0c08d42-6b6e-4a46-8d70-a2a71df6f747",
   "metadata": {},
   "outputs": [],
   "source": [
    "# pattern print - 2\n",
    "n = 11 (User given ODD integer number)   m = (n + 1) // 2 = (11 + 1) // 2 = 6\n",
    "               i    .    *\n",
    "             ---------------\n",
    "***********    1    0   11\n",
    ".*********     2    1    9       (i, n, m)\n",
    "..*******      3    2    7  . => (i - 1)\n",
    "...*****       4    3    5\n",
    "....***        5    4    3  * => (2 * (m - i) + 1)\n",
    ".....*       __6____5____1__\n",
    "....***        7    4    3\n",
    "...*****       8    3    5  . => (n - i)\n",
    "..*******      9    2    7\n",
    ".*********    10    1    9  * => (2 * (i -m) + 1)\n",
    "***********   11    0   11\n",
    "             ---------------\n",
    "             Tracing Table"
   ]
  },
  {
   "cell_type": "code",
   "execution_count": 55,
   "id": "cf64ed55-1b5d-4108-b316-98efbf631784",
   "metadata": {},
   "outputs": [
    {
     "name": "stdin",
     "output_type": "stream",
     "text": [
      "Please enter the ODD number of layers:  10\n",
      "Please enter the ODD number of layers:  12\n",
      "Please enter the ODD number of layers:  18\n",
      "Please enter the ODD number of layers:  20\n",
      "Please enter the ODD number of layers:  11\n"
     ]
    },
    {
     "name": "stdout",
     "output_type": "stream",
     "text": [
      "***********\n",
      ".*********\n",
      "..*******\n",
      "...*****\n",
      "....***\n",
      ".....*\n",
      "....***\n",
      "...*****\n",
      "..*******\n",
      ".*********\n",
      "***********\n",
      "End of the program...\n"
     ]
    }
   ],
   "source": [
    "while (True):\n",
    "    n = int(input(\"Please enter the ODD number of layers: \"))\n",
    "    if (n % 2 == 1): break\n",
    "m = (n + 1) // 2\n",
    "for i in range(1, n + 1):\n",
    "    if (i > m): b = (n - i); s = (2 * (i -m) + 1)\n",
    "    else: b = (i - 1); s = (2 * (m - i) + 1)\n",
    "    print (\".\" * b + \"*\" * s)\n",
    "print (\"End of the program...\")"
   ]
  },
  {
   "cell_type": "code",
   "execution_count": null,
   "id": "834c6cf2-dce0-4a69-b517-7dc289f7f45d",
   "metadata": {},
   "outputs": [],
   "source": [
    "ASCII (American Standard Code for Information Interchange) Codes:\n",
    "-----------------------------------------------------------------\n",
    "It is 8-bit code. So code value ranges from 0 to 255.\n",
    "0 to 127 range is called Normal ASCII codes (Printable)\n",
    "and 128 to 255 range is called Extended ASCII codes (Non-Printable).\n",
    "Popular ASCII codes are:\n",
    "a => 97, b => 98 ... z => 122\n",
    "A => 65, B => 66 ... Z => 90\n",
    "0 => 48, 1 => 49 ... 9 => 57\n",
    "Enter => 13, Esc => 27, Tab => 8, Back Space => 9 and Space => 32 etc."
   ]
  },
  {
   "cell_type": "code",
   "execution_count": 57,
   "id": "e1d83932-b77b-4518-abf7-6cd43e19646f",
   "metadata": {},
   "outputs": [
    {
     "name": "stdout",
     "output_type": "stream",
     "text": [
      "A Z a z\n",
      "65 90 97 122\n"
     ]
    }
   ],
   "source": [
    "print (chr(65), chr(90), chr(97), chr(122))\n",
    "print (ord('A'), ord('Z'), ord('a'), ord('z'))"
   ]
  },
  {
   "cell_type": "code",
   "execution_count": null,
   "id": "ec81884e-f3f1-441b-b2a8-28d67b3216d3",
   "metadata": {},
   "outputs": [],
   "source": [
    "# pattern print - 3\n",
    "n = 6 (User given)\n",
    "               i      .    *\n",
    "             -----------------\n",
    ".....A         1 (65) 5    1\n",
    "....BBB        2 (66) 4    3       (i, n)\n",
    "...CCCCC       3 (67) 3    5  . => (n - i)\n",
    "..DDDDDDD      4 (68) 2    7\n",
    ".EEEEEEEEE     5 (69) 1    9  * => (2 * i - 1)\n",
    "FFFFFFFFFFF    6 (70) 0   11\n",
    "             -----------------\n",
    "             Tracing Table"
   ]
  },
  {
   "cell_type": "code",
   "execution_count": 61,
   "id": "f6219ff3-884c-4ebf-9c4a-7455c577d387",
   "metadata": {},
   "outputs": [
    {
     "name": "stdin",
     "output_type": "stream",
     "text": [
      "Please enter the number of layers:  6\n"
     ]
    },
    {
     "name": "stdout",
     "output_type": "stream",
     "text": [
      ".....A\n",
      "....BBB\n",
      "...CCCCC\n",
      "..DDDDDDD\n",
      ".EEEEEEEEE\n",
      "FFFFFFFFFFF\n"
     ]
    }
   ],
   "source": [
    "n = int(input(\"Please enter the number of layers: \"))\n",
    "for i in range(1, n + 1):\n",
    "    my_char = chr(64 + i)\n",
    "    print (\".\" * (n - i) + my_char * (2 * i - 1))"
   ]
  },
  {
   "cell_type": "code",
   "execution_count": null,
   "id": "f9742d97-76f0-43a5-986d-91d6672c8ddd",
   "metadata": {},
   "outputs": [],
   "source": [
    "# pattern print - 4\n",
    "n = 11 (User given ODD integer number)   m = (n + 1) // 2 = (11 + 1) // 2 = 6\n",
    "               i    .    *\n",
    "             ---------------\n",
    ".....*         1    5    1\n",
    "....***        2    4    3       (i, n, m)\n",
    "...*****       3    3    5  . => (m - i)\n",
    "..*******      4    2    7\n",
    ".*********     5    1    9  * => (2 * i - 1)\n",
    "***********  __6____0___11__\n",
    ".*********     7    1    9\n",
    "..*******      8    2    7  . => (i - m)\n",
    "...*****       9    3    5\n",
    "....***       10    4    3  * => (2 * (n - i) + 1)\n",
    ".....*        11    5    1\n",
    "             ---------------\n",
    "             Tracing Table"
   ]
  },
  {
   "cell_type": "code",
   "execution_count": 63,
   "id": "5daa94ed-b40b-445c-9e1d-79a2258bd68c",
   "metadata": {},
   "outputs": [
    {
     "name": "stdin",
     "output_type": "stream",
     "text": [
      "Please enter the ODD number of layers:  12\n",
      "Please enter the ODD number of layers:  20\n",
      "Please enter the ODD number of layers:  22\n",
      "Please enter the ODD number of layers:  13\n"
     ]
    },
    {
     "name": "stdout",
     "output_type": "stream",
     "text": [
      "......*\n",
      ".....***\n",
      "....*****\n",
      "...*******\n",
      "..*********\n",
      ".***********\n",
      "*************\n",
      ".***********\n",
      "..*********\n",
      "...*******\n",
      "....*****\n",
      ".....***\n",
      "......*\n",
      "End of the program...\n"
     ]
    }
   ],
   "source": [
    "while (True):\n",
    "    n = int(input(\"Please enter the ODD number of layers: \"))\n",
    "    if (n % 2 == 1): break\n",
    "m = (n + 1) // 2\n",
    "for i in range(1, n + 1):\n",
    "    if (i > m): b = (i - m); s = (2 * (n - i) + 1)\n",
    "    else: b = (m - i); s = (2 * i - 1)\n",
    "    print (\".\" * b + \"*\" * s)\n",
    "print (\"End of the program...\")"
   ]
  },
  {
   "cell_type": "markdown",
   "id": "ee15b33a-f8dc-48db-9d03-17c4a3356596",
   "metadata": {},
   "source": [
    "**Programming Assignment - 3 (15 Minutes)**<br>\n",
    "Find all possible three digit Triode Numbers. <br>\n",
    "Let x be a Triode Number. Then x, 2x and 3 x will have all distinct digits.<br>\n",
    "As example, x = 219, 2x = 438 and 3x = 657<br>\n",
    "As example, x = 192, 2x = 384 and 3x = 576<br>"
   ]
  },
  {
   "cell_type": "code",
   "execution_count": null,
   "id": "ad2e0099-bf89-4719-af54-83ae3a0de0d0",
   "metadata": {},
   "outputs": [],
   "source": [
    "Lower Limit -> 100, 101, 102\n",
    "Upper Limit -> 987, 498\n",
    "x -> 3 \n",
    "2*x -> 3    4\n",
    "3*x -> 3,4  4"
   ]
  },
  {
   "cell_type": "code",
   "execution_count": 67,
   "id": "4b27ec82-cc1f-48e7-810b-d27e678c9c31",
   "metadata": {},
   "outputs": [
    {
     "name": "stdout",
     "output_type": "stream",
     "text": [
      "192 384 576 [2, 9, 1, 4, 8, 3, 6, 7, 5]\n",
      "219 438 657 [9, 1, 2, 8, 3, 4, 7, 5, 6]\n",
      "267 534 801 [7, 6, 2, 4, 3, 5, 1, 0, 8]\n",
      "273 546 819 [3, 7, 2, 6, 4, 5, 9, 1, 8]\n",
      "327 654 981 [7, 2, 3, 4, 5, 6, 1, 8, 9]\n",
      "End of the program...\n"
     ]
    }
   ],
   "source": [
    "for x in range(102, 499):\n",
    "    digits = []\n",
    "    flag = 1\n",
    "    for i in range(1, 4):\n",
    "        num = i * x\n",
    "        while (num != 0):\n",
    "            last_digit = num % 10\n",
    "            if (last_digit in digits):\n",
    "                flag = 0\n",
    "                break\n",
    "            else:\n",
    "                digits.append(last_digit)\n",
    "                num = num // 10\n",
    "        if (flag == 0): break\n",
    "    if (flag == 1): print (x, 2 * x, 3 * x, digits)\n",
    "print (\"End of the program...\")"
   ]
  },
  {
   "cell_type": "markdown",
   "id": "21235c3e-ee71-4d6d-a03a-eb2abd29236e",
   "metadata": {},
   "source": [
    "**Programming Assignment - 2 (10 Minutes)**<br>\n",
    "Find the second maximum number out of three user given numbers."
   ]
  },
  {
   "cell_type": "code",
   "execution_count": null,
   "id": "42d5dcb7-6be9-4878-a31b-92bafecdac73",
   "metadata": {},
   "outputs": [],
   "source": [
    "Phase - 1:\n",
    "----------\n",
    "Find the maximum of num1 and num2 and put them in max1 and max2\n",
    "\n",
    "Phase - 2:\n",
    "----------\n",
    "                      max1         max2\n",
    "                      800          500\n",
    "num3 =>       900           700          300      \n",
    "              800           700          500\n",
    "              max1          num3         max2"
   ]
  },
  {
   "cell_type": "code",
   "execution_count": 71,
   "id": "a1b4ec28-c117-4f06-b395-be6eb5b97c89",
   "metadata": {},
   "outputs": [
    {
     "name": "stdin",
     "output_type": "stream",
     "text": [
      "Please enter the first number:  300\n",
      "Please enter the second number:  100\n",
      "Please enter the third number:  200\n"
     ]
    },
    {
     "name": "stdout",
     "output_type": "stream",
     "text": [
      "Second maximum is 200\n",
      "End of the program...\n"
     ]
    }
   ],
   "source": [
    "num1 = int(input(\"Please enter the first number: \"))\n",
    "num2 = int(input(\"Please enter the second number: \"))\n",
    "num3 = int(input(\"Please enter the third number: \"))\n",
    "if (num1 > num2): max1 = num1; max2 = num2\n",
    "else: max1 = num2; max2 = num1\n",
    "\n",
    "if (num3 > max1): print (f\"Second maximum is {max1}\")\n",
    "elif (num3 > max2): print (f\"Second maximum is {num3}\")\n",
    "elif (max2 > num3): print (f\"Second maximum is {max2}\")\n",
    "\n",
    "print (\"End of the program...\")"
   ]
  },
  {
   "cell_type": "markdown",
   "id": "d4644fbc-256b-4780-8e33-6018f7d2fbe3",
   "metadata": {},
   "source": [
    "### User Defined Functions"
   ]
  },
  {
   "cell_type": "code",
   "execution_count": 73,
   "id": "b85ab6c6-82e1-41b9-a506-ab08ed3333df",
   "metadata": {},
   "outputs": [
    {
     "name": "stdout",
     "output_type": "stream",
     "text": [
      "Welcome Welcome Welcome Welcome Welcome \n",
      "Welcome Welcome Welcome Welcome Welcome \n",
      "Welcome Welcome Welcome Welcome Welcome \n"
     ]
    }
   ],
   "source": [
    "def funct1():\n",
    "    print (\"Welcome \" * 5)\n",
    "\n",
    "funct1()\n",
    "funct1()\n",
    "funct1()"
   ]
  },
  {
   "cell_type": "code",
   "execution_count": 76,
   "id": "8ff831ba-8008-43de-8677-5aa111350b9f",
   "metadata": {},
   "outputs": [
    {
     "name": "stdout",
     "output_type": "stream",
     "text": [
      "Good Bye Good Bye Good Bye Good Bye Good Bye Good Bye \n",
      "Welcome Welcome Welcome Welcome \n",
      "Bye Bye Bye Bye Bye Bye \n"
     ]
    }
   ],
   "source": [
    "def funct2(msg, times):\n",
    "    print (msg * times)\n",
    "funct2(\"Good Bye \", 6)\n",
    "funct2(\"Welcome \", 4)\n",
    "funct2(\"Bye \", 6)"
   ]
  },
  {
   "cell_type": "code",
   "execution_count": 81,
   "id": "c872f925-9dc8-431e-99e3-6370e2adb92c",
   "metadata": {},
   "outputs": [
    {
     "name": "stdout",
     "output_type": "stream",
     "text": [
      "So Total = 140, Difference = 60, Product = 4000 and Quotient = 2.5...\n",
      "(170, 30, 7000, 1.4285714285714286) <class 'tuple'>\n",
      "So Total = 170, Difference = 30, Product = 7000 and Quotient = 1.4285714285714286...\n"
     ]
    }
   ],
   "source": [
    "# function returning multiple values at a time\n",
    "def funct3(num1, num2):\n",
    "    total = num1 + num2\n",
    "    difference = num1 - num2\n",
    "    product = num1 * num2\n",
    "    quotient = num1 / num2\n",
    "    return total, difference, product, quotient\n",
    "\n",
    "tt, dd, pp, qq = funct3(100, 40)\n",
    "print (f\"So Total = {tt}, Difference = {dd}, Product = {pp} and Quotient = {qq}...\")\n",
    "result = funct3(100, 70)\n",
    "print (result, type(result))\n",
    "print (f\"So Total = {result[0]}, Difference = {result[1]}, Product = {result[2]} and Quotient = {result[3]}...\")"
   ]
  },
  {
   "cell_type": "code",
   "execution_count": 92,
   "id": "603c40db-0714-40f5-b8d5-56620d7ffa85",
   "metadata": {},
   "outputs": [
    {
     "name": "stdout",
     "output_type": "stream",
     "text": [
      "So par1 = 100, par2 = 200 and par3 = 300...\n",
      "So par1 = 100, par2 = 200 and par3 = 333...\n",
      "So par1 = 100, par2 = 222 and par3 = 333...\n",
      "So par1 = 111, par2 = 222 and par3 = 333...\n",
      "So par1 = 100, par2 = 222 and par3 = 300...\n",
      "So par1 = 100, par2 = 222 and par3 = 300...\n"
     ]
    }
   ],
   "source": [
    "# function with default arguments\n",
    "def funct4(par1 = 111, par2 = 222, par3 = 333):\n",
    "    print (f\"So par1 = {par1}, par2 = {par2} and par3 = {par3}...\")\n",
    "    \n",
    "funct4(100, 200, 300)\n",
    "funct4(100, 200)\n",
    "funct4(100)\n",
    "funct4()\n",
    "funct4(par1 = 100, par3 = 300)\n",
    "funct4(par3 = 300, par1 = 100)"
   ]
  },
  {
   "cell_type": "code",
   "execution_count": 93,
   "id": "8149d29f-fb62-41a5-a689-1c4a40cc6d35",
   "metadata": {},
   "outputs": [
    {
     "name": "stdout",
     "output_type": "stream",
     "text": [
      "900\n",
      "200\n"
     ]
    }
   ],
   "source": [
    "def funct5(par1, par2 = None):\n",
    "    if (par2 == None):\n",
    "        return 2 * par1\n",
    "    else:\n",
    "        return par1 + par2\n",
    "    \n",
    "print (funct5(100, 800))\n",
    "print (funct5(100))"
   ]
  },
  {
   "cell_type": "code",
   "execution_count": 94,
   "id": "f4108ecd-9468-47d1-8048-3fe85436ffa1",
   "metadata": {},
   "outputs": [
    {
     "name": "stdout",
     "output_type": "stream",
     "text": [
      "('Amit', 'Developer') 2 <class 'tuple'> 1888498717760\n",
      "('Amit', 'Developer', 'Pune', '70000') 4 <class 'tuple'> 1888489227184\n",
      "('Amit', 'Developer', 'Pune', '70000', 'amit@abc.com') 5 <class 'tuple'> 1888498183760\n"
     ]
    }
   ],
   "source": [
    "# function with variable number of arguments\n",
    "def funct6(*arg):\n",
    "    print (arg, len(arg), type(arg), id(arg))\n",
    "    \n",
    "funct6(\"Amit\", \"Developer\")\n",
    "funct6(\"Amit\", \"Developer\", \"Pune\", \"70000\")\n",
    "funct6(\"Amit\", \"Developer\", \"Pune\", \"70000\", \"amit@abc.com\")"
   ]
  },
  {
   "cell_type": "code",
   "execution_count": 96,
   "id": "9b736b91-9b05-46b8-9feb-cad9a65e09d8",
   "metadata": {},
   "outputs": [
    {
     "name": "stdout",
     "output_type": "stream",
     "text": [
      "{'name': 'Amit', 'job': 'Developer'} 2 <class 'dict'> 1888494134784\n",
      "{'name': 'Amit', 'job': 'Developer', 'location': 'Pune', 'salary': '70000'} 4 <class 'dict'> 1888495363072\n",
      "{'name': 'Amit', 'job': 'Developer', 'location': 'Pune', 'salary': '70000', 'email': 'amit@abc.com'} 5 <class 'dict'> 1888501595968\n"
     ]
    }
   ],
   "source": [
    "def funct6(**kwarg):\n",
    "    print (kwarg, len(kwarg), type(kwarg), id(kwarg))\n",
    "    \n",
    "funct6(name=\"Amit\", job=\"Developer\")\n",
    "funct6(name=\"Amit\", job=\"Developer\", location=\"Pune\", salary=\"70000\")\n",
    "funct6(name=\"Amit\", job=\"Developer\", location=\"Pune\", salary=\"70000\", email=\"amit@abc.com\")"
   ]
  },
  {
   "cell_type": "code",
   "execution_count": 99,
   "id": "7279c442-7c82-4a5e-81c5-81d0a09364d2",
   "metadata": {},
   "outputs": [
    {
     "name": "stdout",
     "output_type": "stream",
     "text": [
      "('Amit', 'Developer', 'Male') 3 <class 'tuple'> 1888493847040\n",
      "{'location': 'Pune', 'salary': '70000', 'email': 'amit@abc.com'} 3 <class 'dict'> 1888494768960\n",
      "\n",
      "('Amit', 'Developer', 'Male') 3 <class 'tuple'> 1888493063488\n",
      "{} 0 <class 'dict'> 1888494768704\n",
      "\n",
      "() 0 <class 'tuple'> 1888399589440\n",
      "{'location': 'Pune', 'salary': '70000', 'email': 'amit@abc.com'} 3 <class 'dict'> 1888495337216\n"
     ]
    }
   ],
   "source": [
    "def funct7(*arg, **kwarg):\n",
    "    print (arg, len(arg), type(arg), id(arg))\n",
    "    print (kwarg, len(kwarg), type(kwarg), id(kwarg))\n",
    "    \n",
    "funct7(\"Amit\", \"Developer\", \"Male\", location=\"Pune\", salary=\"70000\", email=\"amit@abc.com\")\n",
    "print ()\n",
    "funct7(\"Amit\", \"Developer\", \"Male\")\n",
    "print ()\n",
    "funct7(location=\"Pune\", salary=\"70000\", email=\"amit@abc.com\")"
   ]
  },
  {
   "cell_type": "code",
   "execution_count": 100,
   "id": "f3ed5f76-1f80-4504-88be-bcd28bea5cef",
   "metadata": {},
   "outputs": [
    {
     "name": "stdout",
     "output_type": "stream",
     "text": [
      "Before calling the function 10 140719228463184\n",
      "Within the function 100 140719228466064\n",
      "After calling the function 10 140719228463184\n"
     ]
    }
   ],
   "source": [
    "def funct8():\n",
    "    i = 100\n",
    "    print (\"Within the function\", i, id(i))\n",
    "    \n",
    "i = 10\n",
    "print (\"Before calling the function\", i, id(i))\n",
    "funct8()\n",
    "print (\"After calling the function\", i, id(i))"
   ]
  },
  {
   "cell_type": "code",
   "execution_count": 101,
   "id": "6019773c-3d24-409c-b11b-44a45f701840",
   "metadata": {},
   "outputs": [
    {
     "name": "stdout",
     "output_type": "stream",
     "text": [
      "Before calling the function 10 140719228463184\n",
      "Within the function 100 140719228466064\n",
      "After calling the function 100 140719228466064\n"
     ]
    }
   ],
   "source": [
    "def funct8():\n",
    "    global i\n",
    "    i = 100\n",
    "    print (\"Within the function\", i, id(i))\n",
    "    \n",
    "i = 10\n",
    "print (\"Before calling the function\", i, id(i))\n",
    "funct8()\n",
    "print (\"After calling the function\", i, id(i))"
   ]
  },
  {
   "cell_type": "code",
   "execution_count": 102,
   "id": "190d3559-5a88-4f4f-a092-711f59923141",
   "metadata": {},
   "outputs": [
    {
     "name": "stdout",
     "output_type": "stream",
     "text": [
      "100 140719228466064\n",
      "100 140719228466064\n",
      "100 140719228466064\n"
     ]
    }
   ],
   "source": [
    "var1 = 100\n",
    "var2 = 100\n",
    "var3 = var1\n",
    "print (var1, id(var1))\n",
    "print (var2, id(var2))\n",
    "print (var3, id(var3))"
   ]
  },
  {
   "cell_type": "code",
   "execution_count": 105,
   "id": "cfd842d2-edda-4e5a-934c-cea3cc0ba739",
   "metadata": {},
   "outputs": [
    {
     "name": "stdout",
     "output_type": "stream",
     "text": [
      "257 1888502904752\n",
      "257 1888502904656\n",
      "257 1888502904752\n"
     ]
    }
   ],
   "source": [
    "var1 = 257\n",
    "var2 = 257\n",
    "var3 = var1\n",
    "print (var1, id(var1))\n",
    "print (var2, id(var2))\n",
    "print (var3, id(var3))"
   ]
  },
  {
   "cell_type": "code",
   "execution_count": 107,
   "id": "a7e8699b-98ed-483a-83f4-c4f87bbc6f10",
   "metadata": {},
   "outputs": [
    {
     "name": "stdout",
     "output_type": "stream",
     "text": [
      "-6 1888502904528\n",
      "-6 1888502904304\n",
      "-6 1888502904528\n"
     ]
    }
   ],
   "source": [
    "var1 = -6\n",
    "var2 = -6\n",
    "var3 = var1\n",
    "print (var1, id(var1))\n",
    "print (var2, id(var2))\n",
    "print (var3, id(var3))"
   ]
  },
  {
   "cell_type": "code",
   "execution_count": 135,
   "id": "82a8aa0d-1e7d-425a-838e-a3df25dd3013",
   "metadata": {},
   "outputs": [
    {
     "name": "stdout",
     "output_type": "stream",
     "text": [
      "Term = 2 and factorial = 10...\n",
      "Term = 3 and factorial = 30...\n",
      "Term = 4 and factorial = 120...\n",
      "So factorial of 5 is 120...\n"
     ]
    }
   ],
   "source": [
    "# non-recursive factorial function\n",
    "def factorial_nr(num):\n",
    "    if (num == 0 or num == 1): return 1\n",
    "    fact = num\n",
    "    for i in range(2, num):\n",
    "        fact = fact * i\n",
    "        print (f\"Term = {i} and factorial = {fact}...\")\n",
    "    return fact\n",
    "num1 = 5\n",
    "result = factorial_nr(num1)\n",
    "print (f\"So factorial of {num1} is {result}...\")"
   ]
  },
  {
   "cell_type": "code",
   "execution_count": 140,
   "id": "20b950cc-5431-48ee-adae-16ecd7278a28",
   "metadata": {},
   "outputs": [
    {
     "name": "stdout",
     "output_type": "stream",
     "text": [
      "So factorial of 5 is 120...\n",
      "<class 'function'>\n"
     ]
    }
   ],
   "source": [
    "# recursive factorial function\n",
    "def factorial_r(num):\n",
    "    if (num == 0 or num == 1): return 1   # base case, for certain inputs outputs are pre-known to us\n",
    "    return num * factorial_r(num - 1)     # recursive case, the function will call itself\n",
    "num1 = 5\n",
    "result = factorial_r(num1)\n",
    "print (f\"So factorial of {num1} is {result}...\")\n",
    "print (type(factorial_r))"
   ]
  },
  {
   "cell_type": "code",
   "execution_count": null,
   "id": "d87f2a71-6ed8-4323-888f-d87be02403da",
   "metadata": {},
   "outputs": [],
   "source": [
    "5! = 5 * 4!\n",
    "         4 * 3!\n",
    "             3 * 2!\n",
    "                 2 * 1!\n",
    "                     1\n",
    "                 2\n",
    "             6\n",
    "         24\n",
    "     120"
   ]
  },
  {
   "cell_type": "markdown",
   "id": "978683a1-a73b-4f3e-b302-0554fe114db9",
   "metadata": {},
   "source": [
    "### Lambda function"
   ]
  },
  {
   "cell_type": "code",
   "execution_count": 139,
   "id": "f468f10a-6237-4b24-8de5-fa1531f8d049",
   "metadata": {},
   "outputs": [
    {
     "name": "stdout",
     "output_type": "stream",
     "text": [
      "So the square of 5 is 25\n",
      "So the square of 10 is 100\n",
      "<class 'function'>\n"
     ]
    }
   ],
   "source": [
    "my_square = lambda num: num * num\n",
    "\n",
    "num1 = 5\n",
    "result = my_square(num1)\n",
    "print (f\"So the square of {num1} is {result}\")\n",
    "num1 = 10\n",
    "result = my_square(num1)\n",
    "print (f\"So the square of {num1} is {result}\")\n",
    "print (type(my_square))"
   ]
  },
  {
   "cell_type": "code",
   "execution_count": 141,
   "id": "c378478b-3c50-4131-9b50-98891c62542e",
   "metadata": {},
   "outputs": [
    {
     "name": "stdout",
     "output_type": "stream",
     "text": [
      "So the sum of 500 and 300 is 800\n",
      "So the sum of 600 and 100 is 700\n"
     ]
    }
   ],
   "source": [
    "my_addition = lambda num1, num2: num1 + num2\n",
    "\n",
    "num1 = 500\n",
    "num2 = 300\n",
    "result = my_addition(num1, num2)\n",
    "print (f\"So the sum of {num1} and {num2} is {result}\")\n",
    "num1 = 600\n",
    "num2 = 100\n",
    "result = my_addition(num1, num2)\n",
    "print (f\"So the sum of {num1} and {num2} is {result}\")"
   ]
  },
  {
   "cell_type": "code",
   "execution_count": 142,
   "id": "4012460e-00ab-4585-95d0-60780ec8ecbb",
   "metadata": {},
   "outputs": [
    {
     "name": "stdout",
     "output_type": "stream",
     "text": [
      "So the factorial of 6 is 720\n"
     ]
    }
   ],
   "source": [
    "my_factorial = lambda num: 1 if (num == 0 or num == 1) else num * my_factorial(num - 1)\n",
    "\n",
    "n = 6\n",
    "result = my_factorial(n)\n",
    "print (f\"So the factorial of {n} is {result}\")"
   ]
  },
  {
   "cell_type": "code",
   "execution_count": 144,
   "id": "8d9ebf2f-facd-492a-ac3c-66f43cfa2e90",
   "metadata": {},
   "outputs": [
    {
     "name": "stdout",
     "output_type": "stream",
     "text": [
      "<class 'function'> <class 'function'>\n",
      "50\n",
      "120\n",
      "5000\n"
     ]
    }
   ],
   "source": [
    "def funct9(num):\n",
    "    my_product = lambda n: n * num\n",
    "    return my_product\n",
    "\n",
    "var10 = funct9(10)\n",
    "var20 = funct9(20)\n",
    "print (type(var10), type(var20))\n",
    "print (var10(5))\n",
    "print (var20(6))\n",
    "print (funct9(100)(50))"
   ]
  },
  {
   "cell_type": "code",
   "execution_count": 146,
   "id": "a0d2a770-d3f4-45c2-a062-6aa61c68cffe",
   "metadata": {},
   "outputs": [
    {
     "name": "stdout",
     "output_type": "stream",
     "text": [
      "30 C\n",
      "60 B\n",
      "90 A\n"
     ]
    }
   ],
   "source": [
    "marks = 30\n",
    "grade = \"C\" if (marks < 50) else \"B\" if (marks < 80) else \"A\"\n",
    "print (marks, grade)\n",
    "marks = 60\n",
    "grade = \"C\" if (marks < 50) else \"B\" if (marks < 80) else \"A\"\n",
    "print (marks, grade)\n",
    "marks = 90\n",
    "grade = \"C\" if (marks < 50) else \"B\" if (marks < 80) else \"A\"\n",
    "print (marks, grade)"
   ]
  },
  {
   "cell_type": "markdown",
   "id": "b0196e5a-ea88-4a91-9f4c-6bfa9fb9f02d",
   "metadata": {},
   "source": [
    "### Exception Handling"
   ]
  },
  {
   "cell_type": "code",
   "execution_count": 109,
   "id": "0aa1e940-74bf-46ac-8afe-0da1a54fe9b3",
   "metadata": {},
   "outputs": [
    {
     "name": "stdin",
     "output_type": "stream",
     "text": [
      "Please enter the first number:  100\n",
      "Please enter the second number:  0\n"
     ]
    },
    {
     "ename": "ZeroDivisionError",
     "evalue": "division by zero",
     "output_type": "error",
     "traceback": [
      "\u001b[1;31m---------------------------------------------------------------------------\u001b[0m",
      "\u001b[1;31mZeroDivisionError\u001b[0m                         Traceback (most recent call last)",
      "\u001b[1;32m<ipython-input-109-243a3139145a>\u001b[0m in \u001b[0;36m<module>\u001b[1;34m\u001b[0m\n\u001b[0;32m      1\u001b[0m \u001b[0mnum1\u001b[0m \u001b[1;33m=\u001b[0m \u001b[0mint\u001b[0m\u001b[1;33m(\u001b[0m\u001b[0minput\u001b[0m\u001b[1;33m(\u001b[0m\u001b[1;34m\"Please enter the first number: \"\u001b[0m\u001b[1;33m)\u001b[0m\u001b[1;33m)\u001b[0m\u001b[1;33m\u001b[0m\u001b[1;33m\u001b[0m\u001b[0m\n\u001b[0;32m      2\u001b[0m \u001b[0mnum2\u001b[0m \u001b[1;33m=\u001b[0m \u001b[0mint\u001b[0m\u001b[1;33m(\u001b[0m\u001b[0minput\u001b[0m\u001b[1;33m(\u001b[0m\u001b[1;34m\"Please enter the second number: \"\u001b[0m\u001b[1;33m)\u001b[0m\u001b[1;33m)\u001b[0m\u001b[1;33m\u001b[0m\u001b[1;33m\u001b[0m\u001b[0m\n\u001b[1;32m----> 3\u001b[1;33m \u001b[0mresult\u001b[0m \u001b[1;33m=\u001b[0m \u001b[0mnum1\u001b[0m \u001b[1;33m/\u001b[0m \u001b[0mnum2\u001b[0m\u001b[1;33m\u001b[0m\u001b[1;33m\u001b[0m\u001b[0m\n\u001b[0m\u001b[0;32m      4\u001b[0m \u001b[0mprint\u001b[0m \u001b[1;33m(\u001b[0m\u001b[1;34mf\"So {num1} / {num2} = {result}\"\u001b[0m\u001b[1;33m)\u001b[0m\u001b[1;33m\u001b[0m\u001b[1;33m\u001b[0m\u001b[0m\n\u001b[0;32m      5\u001b[0m \u001b[0mprint\u001b[0m \u001b[1;33m(\u001b[0m\u001b[1;34m\"End of the program...\"\u001b[0m\u001b[1;33m)\u001b[0m\u001b[1;33m\u001b[0m\u001b[1;33m\u001b[0m\u001b[0m\n",
      "\u001b[1;31mZeroDivisionError\u001b[0m: division by zero"
     ]
    }
   ],
   "source": [
    "num1 = int(input(\"Please enter the first number: \"))\n",
    "num2 = int(input(\"Please enter the second number: \"))\n",
    "result = num1 / num2\n",
    "print (f\"So {num1} / {num2} = {result}\")\n",
    "print (\"End of the program...\")"
   ]
  },
  {
   "cell_type": "code",
   "execution_count": 111,
   "id": "e03dcad8-65b5-4409-bf6d-3c808bb450ef",
   "metadata": {},
   "outputs": [
    {
     "name": "stdin",
     "output_type": "stream",
     "text": [
      "Please enter the first number:  100\n",
      "Please enter the second number:  0\n"
     ]
    },
    {
     "name": "stdout",
     "output_type": "stream",
     "text": [
      "ZeroDivisionError: Division by ZERO is Illegal !!!\n",
      "ZeroDivisionError: Error type: <class 'ZeroDivisionError'>\n",
      "ZeroDivisionError: Error message: division by zero\n",
      "End of the program...\n"
     ]
    }
   ],
   "source": [
    "try:\n",
    "    num1 = int(input(\"Please enter the first number: \"))\n",
    "    num2 = int(input(\"Please enter the second number: \"))\n",
    "    result = num1 / num2\n",
    "    print (f\"So {num1} / {num2} = {result}\")\n",
    "except ZeroDivisionError as zde:\n",
    "    print (\"ZeroDivisionError: Division by ZERO is Illegal !!!\")\n",
    "    print (\"ZeroDivisionError: Error type:\", type(zde))\n",
    "    print (\"ZeroDivisionError: Error message:\", zde)\n",
    "print (\"End of the program...\")"
   ]
  },
  {
   "cell_type": "code",
   "execution_count": 112,
   "id": "32f7301f-052e-4252-a6c5-e85bcce5d68c",
   "metadata": {},
   "outputs": [
    {
     "name": "stdin",
     "output_type": "stream",
     "text": [
      "Please enter the first number:  100.5\n"
     ]
    },
    {
     "ename": "ValueError",
     "evalue": "invalid literal for int() with base 10: '100.5'",
     "output_type": "error",
     "traceback": [
      "\u001b[1;31m---------------------------------------------------------------------------\u001b[0m",
      "\u001b[1;31mValueError\u001b[0m                                Traceback (most recent call last)",
      "\u001b[1;32m<ipython-input-112-1db91ab4f850>\u001b[0m in \u001b[0;36m<module>\u001b[1;34m\u001b[0m\n\u001b[0;32m      1\u001b[0m \u001b[1;32mtry\u001b[0m\u001b[1;33m:\u001b[0m\u001b[1;33m\u001b[0m\u001b[1;33m\u001b[0m\u001b[0m\n\u001b[1;32m----> 2\u001b[1;33m     \u001b[0mnum1\u001b[0m \u001b[1;33m=\u001b[0m \u001b[0mint\u001b[0m\u001b[1;33m(\u001b[0m\u001b[0minput\u001b[0m\u001b[1;33m(\u001b[0m\u001b[1;34m\"Please enter the first number: \"\u001b[0m\u001b[1;33m)\u001b[0m\u001b[1;33m)\u001b[0m\u001b[1;33m\u001b[0m\u001b[1;33m\u001b[0m\u001b[0m\n\u001b[0m\u001b[0;32m      3\u001b[0m     \u001b[0mnum2\u001b[0m \u001b[1;33m=\u001b[0m \u001b[0mint\u001b[0m\u001b[1;33m(\u001b[0m\u001b[0minput\u001b[0m\u001b[1;33m(\u001b[0m\u001b[1;34m\"Please enter the second number: \"\u001b[0m\u001b[1;33m)\u001b[0m\u001b[1;33m)\u001b[0m\u001b[1;33m\u001b[0m\u001b[1;33m\u001b[0m\u001b[0m\n\u001b[0;32m      4\u001b[0m     \u001b[0mresult\u001b[0m \u001b[1;33m=\u001b[0m \u001b[0mnum1\u001b[0m \u001b[1;33m/\u001b[0m \u001b[0mnum2\u001b[0m\u001b[1;33m\u001b[0m\u001b[1;33m\u001b[0m\u001b[0m\n\u001b[0;32m      5\u001b[0m     \u001b[0mprint\u001b[0m \u001b[1;33m(\u001b[0m\u001b[1;34mf\"So {num1} / {num2} = {result}\"\u001b[0m\u001b[1;33m)\u001b[0m\u001b[1;33m\u001b[0m\u001b[1;33m\u001b[0m\u001b[0m\n",
      "\u001b[1;31mValueError\u001b[0m: invalid literal for int() with base 10: '100.5'"
     ]
    }
   ],
   "source": [
    "try:\n",
    "    num1 = int(input(\"Please enter the first number: \"))\n",
    "    num2 = int(input(\"Please enter the second number: \"))\n",
    "    result = num1 / num2\n",
    "    print (f\"So {num1} / {num2} = {result}\")\n",
    "except ZeroDivisionError as zde:\n",
    "    print (\"ZeroDivisionError: Division by ZERO is Illegal !!!\")\n",
    "    print (\"ZeroDivisionError: Error type:\", type(zde))\n",
    "    print (\"ZeroDivisionError: Error message:\", zde)\n",
    "print (\"End of the program...\")"
   ]
  },
  {
   "cell_type": "code",
   "execution_count": 114,
   "id": "c6d4010f-cd19-403e-a28b-ca40233a230a",
   "metadata": {},
   "outputs": [
    {
     "name": "stdin",
     "output_type": "stream",
     "text": [
      "Please enter the first number:  100\n",
      "Please enter the second number:  40.5\n"
     ]
    },
    {
     "name": "stdout",
     "output_type": "stream",
     "text": [
      "ValueError: Please provide Integer numbers only...\n",
      "ValueError: Error type: <class 'ValueError'>\n",
      "ValueError: Error message: invalid literal for int() with base 10: '40.5'\n",
      "End of the program...\n"
     ]
    }
   ],
   "source": [
    "try:\n",
    "    num1 = int(input(\"Please enter the first number: \"))\n",
    "    num2 = int(input(\"Please enter the second number: \"))\n",
    "    result = num1 / num2\n",
    "    print (f\"So {num1} / {num2} = {result}\")\n",
    "except ZeroDivisionError as zde:\n",
    "    print (\"ZeroDivisionError: Division by ZERO is Illegal !!!\")\n",
    "    print (\"ZeroDivisionError: Error type:\", type(zde))\n",
    "    print (\"ZeroDivisionError: Error message:\", zde)\n",
    "except ValueError as ve:\n",
    "    print (\"ValueError: Please provide Integer numbers only...\")\n",
    "    print (\"ValueError: Error type:\", type(ve))\n",
    "    print (\"ValueError: Error message:\", ve)\n",
    "print (\"End of the program...\")"
   ]
  },
  {
   "cell_type": "code",
   "execution_count": 116,
   "id": "4eb9073a-0d0f-48c5-89b9-9752a26ec398",
   "metadata": {},
   "outputs": [
    {
     "name": "stdin",
     "output_type": "stream",
     "text": [
      "Please enter the first number:  100.5\n"
     ]
    },
    {
     "name": "stdout",
     "output_type": "stream",
     "text": [
      "ValueError: Please provide Integer numbers only...\n",
      "ValueError: Error type: <class 'ValueError'>\n",
      "ValueError: Error message: invalid literal for int() with base 10: '100.5'\n",
      "End of the program...\n"
     ]
    }
   ],
   "source": [
    "try:\n",
    "    num1 = int(input(\"Please enter the first number: \"))\n",
    "    num2 = int(input(\"Please enter the second number: \"))\n",
    "    result = num1 / num2\n",
    "    print (f\"So {num1} / {num2} = {result}\")\n",
    "except ValueError as ve:\n",
    "    print (\"ValueError: Please provide Integer numbers only...\")\n",
    "    print (\"ValueError: Error type:\", type(ve))\n",
    "    print (\"ValueError: Error message:\", ve)\n",
    "except ZeroDivisionError as zde:\n",
    "    print (\"ZeroDivisionError: Division by ZERO is Illegal !!!\")\n",
    "    print (\"ZeroDivisionError: Error type:\", type(zde))\n",
    "    print (\"ZeroDivisionError: Error message:\", zde)\n",
    "print (\"End of the program...\")"
   ]
  },
  {
   "cell_type": "code",
   "execution_count": null,
   "id": "00402300-934d-4f23-b36c-e7bc308a5adc",
   "metadata": {},
   "outputs": [],
   "source": [
    "# https://docs.python.org/3.11/library/exceptions.html"
   ]
  },
  {
   "cell_type": "code",
   "execution_count": 118,
   "id": "34d9cc04-b3f5-492f-a2a1-13fbaa4527f6",
   "metadata": {},
   "outputs": [
    {
     "name": "stdin",
     "output_type": "stream",
     "text": [
      "Please enter the first number:  100\n",
      "Please enter the second number:  0\n"
     ]
    },
    {
     "name": "stdout",
     "output_type": "stream",
     "text": [
      "Exception: Some unknown exception has occurred !!!\n",
      "Exception: Error type: <class 'ZeroDivisionError'>\n",
      "Exception: Error message: division by zero\n",
      "End of the program...\n"
     ]
    }
   ],
   "source": [
    "try:\n",
    "    num1 = int(input(\"Please enter the first number: \"))\n",
    "    num2 = int(input(\"Please enter the second number: \"))\n",
    "    result = num1 / num2\n",
    "    print (f\"So {num1} / {num2} = {result}\")\n",
    "except ValueError as ve:\n",
    "    print (\"ValueError: Please provide Integer numbers only...\")\n",
    "    print (\"ValueError: Error type:\", type(ve))\n",
    "    print (\"ValueError: Error message:\", ve)\n",
    "# except ZeroDivisionError as zde:\n",
    "#     print (\"ZeroDivisionError: Division by ZERO is Illegal !!!\")\n",
    "#     print (\"ZeroDivisionError: Error type:\", type(zde))\n",
    "#     print (\"ZeroDivisionError: Error message:\", zde)\n",
    "except Exception as ex:\n",
    "    print (\"Exception: Some unknown exception has occurred !!!\")\n",
    "    print (\"Exception: Error type:\", type(ex))\n",
    "    print (\"Exception: Error message:\", ex)\n",
    "print (\"End of the program...\")"
   ]
  },
  {
   "cell_type": "code",
   "execution_count": 120,
   "id": "f5916769-9175-48e4-a138-131d69d65806",
   "metadata": {},
   "outputs": [
    {
     "name": "stdin",
     "output_type": "stream",
     "text": [
      "Please enter the first number:  100\n",
      "Please enter the second number:  4.5\n"
     ]
    },
    {
     "name": "stdout",
     "output_type": "stream",
     "text": [
      "Exception: Some unknown exception has occurred !!!\n",
      "Exception: Error type: <class 'ValueError'>\n",
      "Exception: Error message: invalid literal for int() with base 10: '4.5'\n",
      "End of the program...\n"
     ]
    }
   ],
   "source": [
    "try:\n",
    "    num1 = int(input(\"Please enter the first number: \"))\n",
    "    num2 = int(input(\"Please enter the second number: \"))\n",
    "    result = num1 / num2\n",
    "    print (f\"So {num1} / {num2} = {result}\")\n",
    "# except ValueError as ve:\n",
    "#     print (\"ValueError: Please provide Integer numbers only...\")\n",
    "#     print (\"ValueError: Error type:\", type(ve))\n",
    "#     print (\"ValueError: Error message:\", ve)\n",
    "except ZeroDivisionError as zde:\n",
    "    print (\"ZeroDivisionError: Division by ZERO is Illegal !!!\")\n",
    "    print (\"ZeroDivisionError: Error type:\", type(zde))\n",
    "    print (\"ZeroDivisionError: Error message:\", zde)\n",
    "except Exception as ex:\n",
    "    print (\"Exception: Some unknown exception has occurred !!!\")\n",
    "    print (\"Exception: Error type:\", type(ex))\n",
    "    print (\"Exception: Error message:\", ex)\n",
    "print (\"End of the program...\")"
   ]
  },
  {
   "cell_type": "code",
   "execution_count": 122,
   "id": "dd1c682c-2092-48e5-ac9c-664eece84571",
   "metadata": {},
   "outputs": [
    {
     "name": "stdin",
     "output_type": "stream",
     "text": [
      "Please enter the first number:  100.5\n"
     ]
    },
    {
     "name": "stdout",
     "output_type": "stream",
     "text": [
      "Exception: Some unknown exception has occurred !!!\n",
      "Exception: Error type: <class 'ValueError'>\n",
      "Exception: Error message: invalid literal for int() with base 10: '100.5'\n",
      "End of the program...\n"
     ]
    }
   ],
   "source": [
    "try:\n",
    "    num1 = int(input(\"Please enter the first number: \"))\n",
    "    num2 = int(input(\"Please enter the second number: \"))\n",
    "    result = num1 / num2\n",
    "    print (f\"So {num1} / {num2} = {result}\")\n",
    "except Exception as ex:\n",
    "    print (\"Exception: Some unknown exception has occurred !!!\")\n",
    "    print (\"Exception: Error type:\", type(ex))\n",
    "    print (\"Exception: Error message:\", ex)\n",
    "except ValueError as ve:\n",
    "    print (\"ValueError: Please provide Integer numbers only...\")\n",
    "    print (\"ValueError: Error type:\", type(ve))\n",
    "    print (\"ValueError: Error message:\", ve)\n",
    "except ZeroDivisionError as zde:\n",
    "    print (\"ZeroDivisionError: Division by ZERO is Illegal !!!\")\n",
    "    print (\"ZeroDivisionError: Error type:\", type(zde))\n",
    "    print (\"ZeroDivisionError: Error message:\", zde)\n",
    "print (\"End of the program...\")"
   ]
  },
  {
   "cell_type": "code",
   "execution_count": 125,
   "id": "bd5790ef-05f0-44a4-b150-7c816395d771",
   "metadata": {},
   "outputs": [
    {
     "name": "stdin",
     "output_type": "stream",
     "text": [
      "Please enter the first number:  100\n",
      "Please enter the second number:  40\n"
     ]
    },
    {
     "name": "stdout",
     "output_type": "stream",
     "text": [
      "So 100 / 40 = 2.5\n",
      "Else: Executing else block...\n",
      "Else: Had a smooth execution...\n",
      "End of the program...\n"
     ]
    }
   ],
   "source": [
    "try:\n",
    "    num1 = int(input(\"Please enter the first number: \"))\n",
    "    num2 = int(input(\"Please enter the second number: \"))\n",
    "    result = num1 / num2\n",
    "    print (f\"So {num1} / {num2} = {result}\")\n",
    "except Exception as ex:\n",
    "    print (\"Exception: Some unknown exception has occurred !!!\")\n",
    "    print (\"Exception: Error type:\", type(ex))\n",
    "    print (\"Exception: Error message:\", ex)\n",
    "except ValueError as ve:\n",
    "    print (\"ValueError: Please provide Integer numbers only...\")\n",
    "    print (\"ValueError: Error type:\", type(ve))\n",
    "    print (\"ValueError: Error message:\", ve)\n",
    "except ZeroDivisionError as zde:\n",
    "    print (\"ZeroDivisionError: Division by ZERO is Illegal !!!\")\n",
    "    print (\"ZeroDivisionError: Error type:\", type(zde))\n",
    "    print (\"ZeroDivisionError: Error message:\", zde)\n",
    "else:\n",
    "    print (\"Else: Executing else block...\")\n",
    "    print (\"Else: Had a smooth execution...\")\n",
    "print (\"End of the program...\")"
   ]
  },
  {
   "cell_type": "code",
   "execution_count": 127,
   "id": "9eab7f10-2d10-4f5d-a7f0-e7f45a7bfd5b",
   "metadata": {},
   "outputs": [
    {
     "name": "stdin",
     "output_type": "stream",
     "text": [
      "Please enter the first number:  100\n",
      "Please enter the second number:  0\n"
     ]
    },
    {
     "name": "stdout",
     "output_type": "stream",
     "text": [
      "Exception: Some unknown exception has occurred !!!\n",
      "Exception: Error type: <class 'ZeroDivisionError'>\n",
      "Exception: Error message: division by zero\n",
      "Finally: Finally executes always...\n",
      "Finally: Finally should be the last block...\n",
      "End of the program...\n"
     ]
    }
   ],
   "source": [
    "try:\n",
    "    num1 = int(input(\"Please enter the first number: \"))\n",
    "    num2 = int(input(\"Please enter the second number: \"))\n",
    "    result = num1 / num2\n",
    "    print (f\"So {num1} / {num2} = {result}\")\n",
    "except Exception as ex:\n",
    "    print (\"Exception: Some unknown exception has occurred !!!\")\n",
    "    print (\"Exception: Error type:\", type(ex))\n",
    "    print (\"Exception: Error message:\", ex)\n",
    "except ValueError as ve:\n",
    "    print (\"ValueError: Please provide Integer numbers only...\")\n",
    "    print (\"ValueError: Error type:\", type(ve))\n",
    "    print (\"ValueError: Error message:\", ve)\n",
    "except ZeroDivisionError as zde:\n",
    "    print (\"ZeroDivisionError: Division by ZERO is Illegal !!!\")\n",
    "    print (\"ZeroDivisionError: Error type:\", type(zde))\n",
    "    print (\"ZeroDivisionError: Error message:\", zde)\n",
    "else:\n",
    "    print (\"Else: Executing else block...\")\n",
    "    print (\"Else: Had a smooth execution...\")\n",
    "finally:\n",
    "    print (\"Finally: Finally executes always...\")\n",
    "    print (\"Finally: Finally should be the last block...\")\n",
    "print (\"End of the program...\")"
   ]
  },
  {
   "cell_type": "code",
   "execution_count": 130,
   "id": "84ec9230-1506-4a94-8aa0-ae5d087d7ba9",
   "metadata": {},
   "outputs": [
    {
     "name": "stdin",
     "output_type": "stream",
     "text": [
      "Please enter the first number:  100\n",
      "Please enter the second number:  0\n"
     ]
    },
    {
     "name": "stdout",
     "output_type": "stream",
     "text": [
      "Exception: Some unknown exception has occurred !!!\n",
      "Exception: Error type: <class 'ZeroDivisionError'>\n",
      "Exception: Error message: division by zero\n",
      "Finally: Finally executes always...\n",
      "Finally: Finally should be the last block...\n"
     ]
    },
    {
     "name": "stdin",
     "output_type": "stream",
     "text": [
      "Please enter the first number:  100.5\n"
     ]
    },
    {
     "name": "stdout",
     "output_type": "stream",
     "text": [
      "Exception: Some unknown exception has occurred !!!\n",
      "Exception: Error type: <class 'ValueError'>\n",
      "Exception: Error message: invalid literal for int() with base 10: '100.5'\n",
      "Finally: Finally executes always...\n",
      "Finally: Finally should be the last block...\n"
     ]
    },
    {
     "name": "stdin",
     "output_type": "stream",
     "text": [
      "Please enter the first number:  900\n",
      "Please enter the second number:  50\n"
     ]
    },
    {
     "name": "stdout",
     "output_type": "stream",
     "text": [
      "NameError: User defined customized exception has occurred...\n",
      "NameError: Input integer is greater than +100...\n",
      "Finally: Finally executes always...\n",
      "Finally: Finally should be the last block...\n"
     ]
    },
    {
     "name": "stdin",
     "output_type": "stream",
     "text": [
      "Please enter the first number:  -900\n",
      "Please enter the second number:  50\n"
     ]
    },
    {
     "name": "stdout",
     "output_type": "stream",
     "text": [
      "NameError: User defined customized exception has occurred...\n",
      "NameError: Input integer is less than -100...\n",
      "Finally: Finally executes always...\n",
      "Finally: Finally should be the last block...\n"
     ]
    },
    {
     "name": "stdin",
     "output_type": "stream",
     "text": [
      "Please enter the first number:  80\n",
      "Please enter the second number:  16\n"
     ]
    },
    {
     "name": "stdout",
     "output_type": "stream",
     "text": [
      "So 80 / 16 = 5.0\n",
      "Else: Executing else block...\n",
      "Else: Had a smooth execution...\n",
      "Finally: Finally executes always...\n",
      "Finally: Finally should be the last block...\n",
      "End of the program...\n"
     ]
    }
   ],
   "source": [
    "while (True):\n",
    "    try:\n",
    "        num1 = int(input(\"Please enter the first number: \"))\n",
    "        num2 = int(input(\"Please enter the second number: \"))\n",
    "        if (num1 < -100 or num2 < -100): raise NameError(\"Below-100\")\n",
    "        if (num1 > 100 or num2 > 100): raise NameError(\"Above+100\")\n",
    "        result = num1 / num2\n",
    "        print (f\"So {num1} / {num2} = {result}\")\n",
    "    except NameError as ne:\n",
    "        print (\"NameError: User defined customized exception has occurred...\")\n",
    "        if (str(ne) == \"Below-100\"): print (\"NameError: Input integer is less than -100...\")\n",
    "        if (str(ne) == \"Above+100\"): print (\"NameError: Input integer is greater than +100...\")\n",
    "    except Exception as ex:\n",
    "        print (\"Exception: Some unknown exception has occurred !!!\")\n",
    "        print (\"Exception: Error type:\", type(ex))\n",
    "        print (\"Exception: Error message:\", ex)\n",
    "    except ValueError as ve:\n",
    "        print (\"ValueError: Please provide Integer numbers only...\")\n",
    "        print (\"ValueError: Error type:\", type(ve))\n",
    "        print (\"ValueError: Error message:\", ve)\n",
    "    except ZeroDivisionError as zde:\n",
    "        print (\"ZeroDivisionError: Division by ZERO is Illegal !!!\")\n",
    "        print (\"ZeroDivisionError: Error type:\", type(zde))\n",
    "        print (\"ZeroDivisionError: Error message:\", zde)\n",
    "    else:\n",
    "        print (\"Else: Executing else block...\")\n",
    "        print (\"Else: Had a smooth execution...\")\n",
    "        break\n",
    "    finally:\n",
    "        print (\"Finally: Finally executes always...\")\n",
    "        print (\"Finally: Finally should be the last block...\")\n",
    "print (\"End of the program...\")"
   ]
  },
  {
   "cell_type": "code",
   "execution_count": 131,
   "id": "b4af1a89-5253-4711-8378-acc76795717a",
   "metadata": {},
   "outputs": [
    {
     "name": "stdout",
     "output_type": "stream",
     "text": [
      "100 is an Even integer number...\n",
      "\n",
      "101 is an Odd integer number...\n"
     ]
    }
   ],
   "source": [
    "# Ternary Operator in Python\n",
    "num1 = 100\n",
    "result = \"Even\" if (num1 % 2 == 0) else \"Odd\"\n",
    "print (f\"{num1} is an {result} integer number...\")\n",
    "print ()\n",
    "num1 = 101\n",
    "result = \"Even\" if (num1 % 2 == 0) else \"Odd\"\n",
    "print (f\"{num1} is an {result} integer number...\")"
   ]
  },
  {
   "cell_type": "code",
   "execution_count": null,
   "id": "a808be94-e107-4be5-9f8f-dc18db417654",
   "metadata": {},
   "outputs": [],
   "source": []
  },
  {
   "cell_type": "code",
   "execution_count": null,
   "id": "42610c1e-2610-42c9-a83d-23f124366f64",
   "metadata": {},
   "outputs": [],
   "source": []
  },
  {
   "cell_type": "code",
   "execution_count": null,
   "id": "00fb72d8-a301-4d3a-8a6d-786b91e1b657",
   "metadata": {},
   "outputs": [],
   "source": []
  },
  {
   "cell_type": "code",
   "execution_count": null,
   "id": "7a6d1ef8-b27c-4631-89d8-d5a548006275",
   "metadata": {},
   "outputs": [],
   "source": []
  },
  {
   "cell_type": "code",
   "execution_count": null,
   "id": "bc8d590c-c486-4547-9260-f2db740d8f3c",
   "metadata": {},
   "outputs": [],
   "source": []
  },
  {
   "cell_type": "code",
   "execution_count": null,
   "id": "daaca1e1-03cb-421e-aa64-329dc2c80f5b",
   "metadata": {},
   "outputs": [],
   "source": []
  },
  {
   "cell_type": "code",
   "execution_count": null,
   "id": "7f9f283c-bffd-43a2-a427-0362901faaa6",
   "metadata": {},
   "outputs": [],
   "source": []
  }
 ],
 "metadata": {
  "kernelspec": {
   "display_name": "Python 3",
   "language": "python",
   "name": "python3"
  },
  "language_info": {
   "codemirror_mode": {
    "name": "ipython",
    "version": 3
   },
   "file_extension": ".py",
   "mimetype": "text/x-python",
   "name": "python",
   "nbconvert_exporter": "python",
   "pygments_lexer": "ipython3",
   "version": "3.8.8"
  }
 },
 "nbformat": 4,
 "nbformat_minor": 5
}
