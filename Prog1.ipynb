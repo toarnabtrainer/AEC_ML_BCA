{
 "cells": [
  {
   "cell_type": "code",
   "execution_count": 5,
   "id": "f4540c3b-b6c9-4437-92fd-385832383688",
   "metadata": {},
   "outputs": [
    {
     "name": "stdin",
     "output_type": "stream",
     "text": [
      "Please enter the first number:  100\n",
      "Please enter the second number:  400\n"
     ]
    },
    {
     "name": "stdout",
     "output_type": "stream",
     "text": [
      "500\n",
      "100 <class 'int'> 400 <class 'int'> 500 <class 'int'>\n"
     ]
    }
   ],
   "source": [
    "num1 = int(input(\"Please enter the first number: \"))\n",
    "num2 = int(input(\"Please enter the second number: \"))\n",
    "total = num1 + num2\n",
    "print (total)\n",
    "print (num1, type(num1), num2, type(num2), total, type(total))"
   ]
  },
  {
   "cell_type": "code",
   "execution_count": 18,
   "id": "094b24ba-e5ec-4af8-be7e-b115c847eea7",
   "metadata": {},
   "outputs": [
    {
     "name": "stdout",
     "output_type": "stream",
     "text": [
      "So 100 + 400 = 500\n",
      "So 100 + 400 = 500\n",
      "So 100 + 400 = 500\n",
      "So 100 + 400 = 500\n",
      "So 100 + 400 = 500\n",
      "So 100 + 400 = 500\n",
      "So 100 + 400 = 500\n",
      "So 100 + 400 = 500\n",
      "So   100.00 + 400.000000 = 500\n",
      "So 100 + 400 = 500\n"
     ]
    }
   ],
   "source": [
    "print (\"So\", num1, \"+\", num2, \"=\", total)\n",
    "print (\"So \" + str(num1) + \" + \" + str(num2) + \" = \" + str(total))\n",
    "print (\"So {} + {} = {}\".format(num1, num2, total))  # place holder\n",
    "print (\"So {0} + {1} = {2}\".format(num1, num2, total))   # numbered place holder\n",
    "print (\"So {2} + {1} = {0}\".format(total, num2, num1))   # numbered place holder\n",
    "print (\"So {fnum} + {snum} = {tot}\".format(fnum = num1, snum = num2, tot = total))   # labeled place holder\n",
    "print (\"So {fnum} + {snum} = {tot}\".format(snum = num2, fnum = num1, tot = total))   # labeled place holder\n",
    "print (\"So %d + %d = %d\"%(num1, num2, total))\n",
    "print (\"So %8.2f + %f = %d\"%(num1, num2, total))\n",
    "print (f\"So {num1} + {num2} = {total}\")"
   ]
  },
  {
   "cell_type": "code",
   "execution_count": 26,
   "id": "0e6ea93a-52d5-4ffd-8dc1-937a61a7ff57",
   "metadata": {},
   "outputs": [
    {
     "name": "stdin",
     "output_type": "stream",
     "text": [
      "Please enter the first number:  100\n",
      "Please enter the second number:  40\n"
     ]
    },
    {
     "name": "stdout",
     "output_type": "stream",
     "text": [
      "1 >  A D D I T I O N  O P E R A T I O N ...\n",
      "2 >  S U B T R A C T I O N  O P E R A T I O N ...\n",
      "3 >  M U L T I P L I C A T I O N  O P E R A T I O N ...\n",
      "4 >  D I V I S I O N  O P E R A T I O N ...\n",
      "5 >  M O D U L U S  O P E R A T I O N ...\n"
     ]
    },
    {
     "name": "stdin",
     "output_type": "stream",
     "text": [
      "Please enter your choice number:  5\n"
     ]
    },
    {
     "name": "stdout",
     "output_type": "stream",
     "text": [
      "Performing the modulus operation...\n",
      "So 100 % 40 = 20...\n",
      "End of the program...\n"
     ]
    }
   ],
   "source": [
    "# calculator program\n",
    "num1 = int(input(\"Please enter the first number: \"))\n",
    "num2 = int(input(\"Please enter the second number: \"))\n",
    "print (\"1 >  A D D I T I O N  O P E R A T I O N ...\")\n",
    "print (\"2 >  S U B T R A C T I O N  O P E R A T I O N ...\")\n",
    "print (\"3 >  M U L T I P L I C A T I O N  O P E R A T I O N ...\")\n",
    "print (\"4 >  D I V I S I O N  O P E R A T I O N ...\")\n",
    "print (\"5 >  M O D U L U S  O P E R A T I O N ...\")\n",
    "choice = int(input(\"Please enter your choice number: \"))\n",
    "if (choice == 1):\n",
    "    print (\"Performing the addition operation...\")\n",
    "    result = num1 + num2\n",
    "    print (f\"So {num1} + {num2} = {result}...\")\n",
    "elif (choice == 2):\n",
    "    print (\"Performing the subtraction operation...\")\n",
    "    result = num1 - num2\n",
    "    print (f\"So {num1} - {num2} = {result}...\")\n",
    "elif (choice == 3):\n",
    "    print (\"Performing the multiplication operation...\")\n",
    "    result = num1 * num2\n",
    "    print (f\"So {num1} * {num2} = {result}...\")\n",
    "elif (choice == 4):\n",
    "    print (\"Performing the division operation...\")\n",
    "    if (num2 == 0):\n",
    "        print (\"Division by ZERO is Illegal...\")\n",
    "        print (\"Division operation can not be performed...\")\n",
    "    else:\n",
    "        result = num1 / num2\n",
    "        print (f\"So {num1} / {num2} = {result}...\")\n",
    "elif (choice == 5):\n",
    "    print (\"Performing the modulus operation...\")\n",
    "    result = num1 % num2\n",
    "    print (f\"So {num1} % {num2} = {result}...\")\n",
    "else:\n",
    "    print (\"Wrong choice number has been provided...\")\n",
    "print (\"End of the program...\")"
   ]
  },
  {
   "cell_type": "code",
   "execution_count": 29,
   "id": "c24bb8e7-c06b-445a-9a7c-7d65e78bbdb2",
   "metadata": {},
   "outputs": [
    {
     "name": "stdin",
     "output_type": "stream",
     "text": [
      "Please enter the first number:  200\n",
      "Please enter the second number:  100\n",
      "Please enter the third number:  300\n"
     ]
    },
    {
     "name": "stdout",
     "output_type": "stream",
     "text": [
      "So the third number is the maximum number...\n",
      "So the maximum number is 300...\n",
      "End of the program...\n"
     ]
    }
   ],
   "source": [
    "# find the maximum of three user input integer numbers\n",
    "num1 = int(input(\"Please enter the first number: \"))\n",
    "num2 = int(input(\"Please enter the second number: \"))\n",
    "num3 = int(input(\"Please enter the third number: \"))\n",
    "if (num1 > num2):\n",
    "    if (num1 > num3):\n",
    "        print (\"So the first number is the maximum number...\")\n",
    "        print (f\"So the maximum number is {num1}...\")\n",
    "    else:\n",
    "        print (\"So the third number is the maximum number...\")\n",
    "        print (f\"So the maximum number is {num3}...\")\n",
    "elif (num2 > num3):\n",
    "    print (\"So the second number is the maximum number...\")\n",
    "    print (f\"So the maximum number is {num2}...\")\n",
    "else:\n",
    "    print (\"So the third number is the maximum number...\")\n",
    "    print (f\"So the maximum number is {num3}...\")\n",
    "print (\"End of the program...\")"
   ]
  },
  {
   "cell_type": "code",
   "execution_count": 32,
   "id": "e7e4e32d-586a-45c0-a2f0-9129eda0b2ee",
   "metadata": {},
   "outputs": [
    {
     "name": "stdin",
     "output_type": "stream",
     "text": [
      "Please enter the first number:  200\n",
      "Please enter the second number:  100\n",
      "Please enter the third number:  300\n"
     ]
    },
    {
     "name": "stdout",
     "output_type": "stream",
     "text": [
      "So the third number is the maximum number...\n",
      "So the maximum number is 300...\n",
      "End of the program...\n"
     ]
    }
   ],
   "source": [
    "# find the maximum of three user input integer numbers\n",
    "num1 = int(input(\"Please enter the first number: \"))\n",
    "num2 = int(input(\"Please enter the second number: \"))\n",
    "num3 = int(input(\"Please enter the third number: \"))\n",
    "if (num1 > num2 and num1 > num3):\n",
    "        print (\"So the first number is the maximum number...\")\n",
    "        print (f\"So the maximum number is {num1}...\")\n",
    "elif (num2 > num3):\n",
    "    print (\"So the second number is the maximum number...\")\n",
    "    print (f\"So the maximum number is {num2}...\")\n",
    "else:\n",
    "    print (\"So the third number is the maximum number...\")\n",
    "    print (f\"So the maximum number is {num3}...\")\n",
    "print (\"End of the program...\")"
   ]
  },
  {
   "cell_type": "code",
   "execution_count": 34,
   "id": "78e2cb79-d1b4-44b4-8bcf-9933b54dcb9e",
   "metadata": {},
   "outputs": [
    {
     "name": "stdin",
     "output_type": "stream",
     "text": [
      "Please enter one integer:  101\n"
     ]
    },
    {
     "name": "stdout",
     "output_type": "stream",
     "text": [
      "101 is a PRIME number...\n",
      "End of the program...\n"
     ]
    }
   ],
   "source": [
    "# for with the else block\n",
    "# to check whether a given number is PRIME or not\n",
    "num = int(input(\"Please enter one integer: \"))\n",
    "for i in range(2, num):\n",
    "    if (num % i == 0):\n",
    "        print (f\"{num} is not a PRIME number...\")\n",
    "        break\n",
    "else:\n",
    "    print (f\"{num} is a PRIME number...\")\n",
    "print (\"End of the program...\")"
   ]
  },
  {
   "cell_type": "code",
   "execution_count": 36,
   "id": "f805abf1-11d4-4a40-bf57-fc55462b87ed",
   "metadata": {},
   "outputs": [
    {
     "name": "stdin",
     "output_type": "stream",
     "text": [
      "Please enter one integer:  101\n"
     ]
    },
    {
     "name": "stdout",
     "output_type": "stream",
     "text": [
      "101 is a PRIME number...\n",
      "End of the program...\n"
     ]
    }
   ],
   "source": [
    "# while with the else block\n",
    "# to check whether a given number is PRIME or not\n",
    "num = int(input(\"Please enter one integer: \"))\n",
    "i = 2\n",
    "while (i < num):\n",
    "    if (num % i == 0):\n",
    "        print (f\"{num} is not a PRIME number...\")\n",
    "        break\n",
    "    i = i + 1\n",
    "else:\n",
    "    print (f\"{num} is a PRIME number...\")\n",
    "print (\"End of the program...\")"
   ]
  },
  {
   "cell_type": "code",
   "execution_count": 38,
   "id": "5b7de74a-60d2-43ba-92e6-01225e007ab2",
   "metadata": {},
   "outputs": [
    {
     "name": "stdout",
     "output_type": "stream",
     "text": [
      "Visit Doctor...\n",
      "Good morning...\n",
      "Day number - 1 and medicine number - 1...\n",
      "Day number - 1 and medicine number - 2...\n",
      "Day number - 1 and medicine number - 3...\n",
      "Good night...\n",
      "----------------------------------------------\n",
      "Good morning...\n",
      "Day number - 2 and medicine number - 1...\n",
      "Day number - 2 and medicine number - 2...\n",
      "Day number - 2 and medicine number - 3...\n",
      "Good night...\n",
      "----------------------------------------------\n",
      "Good morning...\n",
      "Day number - 3 and medicine number - 1...\n",
      "Day number - 3 and medicine number - 2...\n",
      "Day number - 3 and medicine number - 3...\n",
      "Good night...\n",
      "----------------------------------------------\n",
      "Good morning...\n",
      "Day number - 4 and medicine number - 1...\n",
      "Day number - 4 and medicine number - 2...\n",
      "Day number - 4 and medicine number - 3...\n",
      "Good night...\n",
      "----------------------------------------------\n",
      "Good morning...\n",
      "Day number - 5 and medicine number - 1...\n",
      "Day number - 5 and medicine number - 2...\n",
      "Day number - 5 and medicine number - 3...\n",
      "Good night...\n",
      "----------------------------------------------\n",
      "So total number of medicines consumed is 15...\n",
      "Thanks to Doctor...\n",
      "End of the program...\n"
     ]
    }
   ],
   "source": [
    "# example on nested loops\n",
    "print (\"Visit Doctor...\")\n",
    "medicount = 0\n",
    "for day in range(1, 6):\n",
    "    print (\"Good morning...\")\n",
    "    for medi in range(1, 4):\n",
    "        print (f\"Day number - {day} and medicine number - {medi}...\")\n",
    "        medicount += 1\n",
    "    print (\"Good night...\")\n",
    "    print (\"----------------------------------------------\")\n",
    "print (f\"So total number of medicines consumed is {medicount}...\")\n",
    "print (\"Thanks to Doctor...\")\n",
    "print (\"End of the program...\")"
   ]
  },
  {
   "cell_type": "code",
   "execution_count": 41,
   "id": "161a4226-4b90-485a-9715-0bf9f350290f",
   "metadata": {},
   "outputs": [
    {
     "name": "stdout",
     "output_type": "stream",
     "text": [
      "Hello Hello Hello \n",
      "Welcome Welcome Welcome Welcome Welcome \n"
     ]
    }
   ],
   "source": [
    "print (\"Hello \" * 3)\n",
    "print (\"Welcome \" * 5)"
   ]
  },
  {
   "cell_type": "code",
   "execution_count": null,
   "id": "5228a8e3-0c38-4c79-825c-bde30fc4cd40",
   "metadata": {},
   "outputs": [],
   "source": [
    "# pattern print - 1\n",
    "n = 6 (User given)\n",
    "               i    .    *\n",
    "             ---------------\n",
    ".....*         1    5    1\n",
    "....***        2    4    3       (i, n)\n",
    "...*****       3    3    5  . => (n - i)\n",
    "..*******      4    2    7\n",
    ".*********     5    1    9  * => (2 * i - 1)\n",
    "***********    6    0   11\n",
    "             ---------------\n",
    "             Tracing Table"
   ]
  },
  {
   "cell_type": "code",
   "execution_count": 44,
   "id": "fa84b0a0-dff9-4bde-97cb-a4756ca28ee0",
   "metadata": {},
   "outputs": [
    {
     "name": "stdin",
     "output_type": "stream",
     "text": [
      "Please enter the number of layers:  8\n"
     ]
    },
    {
     "name": "stdout",
     "output_type": "stream",
     "text": [
      ".......*\n",
      "......***\n",
      ".....*****\n",
      "....*******\n",
      "...*********\n",
      "..***********\n",
      ".*************\n",
      "***************\n"
     ]
    }
   ],
   "source": [
    "n = int(input(\"Please enter the number of layers: \"))\n",
    "for i in range(1, n + 1):\n",
    "    print (\".\" * (n - i) + \"*\" * (2 * i - 1))"
   ]
  },
  {
   "cell_type": "code",
   "execution_count": 48,
   "id": "cbbd2ec8-c791-4a65-aff6-4fc88f85e386",
   "metadata": {},
   "outputs": [
    {
     "name": "stdout",
     "output_type": "stream",
     "text": [
      "10.5\n",
      "10\n"
     ]
    }
   ],
   "source": [
    "print (21 / 2)\n",
    "print (21 // 2)"
   ]
  },
  {
   "cell_type": "code",
   "execution_count": null,
   "id": "c0c08d42-6b6e-4a46-8d70-a2a71df6f747",
   "metadata": {},
   "outputs": [],
   "source": [
    "# pattern print - 2\n",
    "n = 11 (User given ODD integer number)   m = (n + 1) // 2 = (11 + 1) // 2 = 6\n",
    "               i    .    *\n",
    "             ---------------\n",
    "***********    1    0   11\n",
    ".*********     2    1    9       (i, n, m)\n",
    "..*******      3    2    7  . => (i - 1)\n",
    "...*****       4    3    5\n",
    "....***        5    4    3  * => (2 * (m - i) + 1)\n",
    ".....*       __6____5____1__\n",
    "....***        7    4    3\n",
    "...*****       8    3    5  . => (n - i)\n",
    "..*******      9    2    7\n",
    ".*********    10    1    9  * => (2 * (i -m) + 1)\n",
    "***********   11    0   11\n",
    "             ---------------\n",
    "             Tracing Table"
   ]
  },
  {
   "cell_type": "code",
   "execution_count": 55,
   "id": "cf64ed55-1b5d-4108-b316-98efbf631784",
   "metadata": {},
   "outputs": [
    {
     "name": "stdin",
     "output_type": "stream",
     "text": [
      "Please enter the ODD number of layers:  10\n",
      "Please enter the ODD number of layers:  12\n",
      "Please enter the ODD number of layers:  18\n",
      "Please enter the ODD number of layers:  20\n",
      "Please enter the ODD number of layers:  11\n"
     ]
    },
    {
     "name": "stdout",
     "output_type": "stream",
     "text": [
      "***********\n",
      ".*********\n",
      "..*******\n",
      "...*****\n",
      "....***\n",
      ".....*\n",
      "....***\n",
      "...*****\n",
      "..*******\n",
      ".*********\n",
      "***********\n",
      "End of the program...\n"
     ]
    }
   ],
   "source": [
    "while (True):\n",
    "    n = int(input(\"Please enter the ODD number of layers: \"))\n",
    "    if (n % 2 == 1): break\n",
    "m = (n + 1) // 2\n",
    "for i in range(1, n + 1):\n",
    "    if (i > m): b = (n - i); s = (2 * (i -m) + 1)\n",
    "    else: b = (i - 1); s = (2 * (m - i) + 1)\n",
    "    print (\".\" * b + \"*\" * s)\n",
    "print (\"End of the program...\")"
   ]
  },
  {
   "cell_type": "code",
   "execution_count": null,
   "id": "834c6cf2-dce0-4a69-b517-7dc289f7f45d",
   "metadata": {},
   "outputs": [],
   "source": [
    "ASCII (American Standard Code for Information Interchange) Codes:\n",
    "-----------------------------------------------------------------\n",
    "It is 8-bit code. So code value ranges from 0 to 255.\n",
    "0 to 127 range is called Normal ASCII codes (Printable)\n",
    "and 128 to 255 range is called Extended ASCII codes (Non-Printable).\n",
    "Popular ASCII codes are:\n",
    "a => 97, b => 98 ... z => 122\n",
    "A => 65, B => 66 ... Z => 90\n",
    "0 => 48, 1 => 49 ... 9 => 57\n",
    "Enter => 13, Esc => 27, Tab => 8, Back Space => 9 and Space => 32 etc."
   ]
  },
  {
   "cell_type": "code",
   "execution_count": 57,
   "id": "e1d83932-b77b-4518-abf7-6cd43e19646f",
   "metadata": {},
   "outputs": [
    {
     "name": "stdout",
     "output_type": "stream",
     "text": [
      "A Z a z\n",
      "65 90 97 122\n"
     ]
    }
   ],
   "source": [
    "print (chr(65), chr(90), chr(97), chr(122))\n",
    "print (ord('A'), ord('Z'), ord('a'), ord('z'))"
   ]
  },
  {
   "cell_type": "code",
   "execution_count": null,
   "id": "ec81884e-f3f1-441b-b2a8-28d67b3216d3",
   "metadata": {},
   "outputs": [],
   "source": [
    "# pattern print - 3\n",
    "n = 6 (User given)\n",
    "               i      .    *\n",
    "             -----------------\n",
    ".....A         1 (65) 5    1\n",
    "....BBB        2 (66) 4    3       (i, n)\n",
    "...CCCCC       3 (67) 3    5  . => (n - i)\n",
    "..DDDDDDD      4 (68) 2    7\n",
    ".EEEEEEEEE     5 (69) 1    9  * => (2 * i - 1)\n",
    "FFFFFFFFFFF    6 (70) 0   11\n",
    "             -----------------\n",
    "             Tracing Table"
   ]
  },
  {
   "cell_type": "code",
   "execution_count": 61,
   "id": "f6219ff3-884c-4ebf-9c4a-7455c577d387",
   "metadata": {},
   "outputs": [
    {
     "name": "stdin",
     "output_type": "stream",
     "text": [
      "Please enter the number of layers:  6\n"
     ]
    },
    {
     "name": "stdout",
     "output_type": "stream",
     "text": [
      ".....A\n",
      "....BBB\n",
      "...CCCCC\n",
      "..DDDDDDD\n",
      ".EEEEEEEEE\n",
      "FFFFFFFFFFF\n"
     ]
    }
   ],
   "source": [
    "n = int(input(\"Please enter the number of layers: \"))\n",
    "for i in range(1, n + 1):\n",
    "    my_char = chr(64 + i)\n",
    "    print (\".\" * (n - i) + my_char * (2 * i - 1))"
   ]
  },
  {
   "cell_type": "code",
   "execution_count": null,
   "id": "f9742d97-76f0-43a5-986d-91d6672c8ddd",
   "metadata": {},
   "outputs": [],
   "source": []
  },
  {
   "cell_type": "code",
   "execution_count": null,
   "id": "5daa94ed-b40b-445c-9e1d-79a2258bd68c",
   "metadata": {},
   "outputs": [],
   "source": []
  }
 ],
 "metadata": {
  "kernelspec": {
   "display_name": "Python 3",
   "language": "python",
   "name": "python3"
  },
  "language_info": {
   "codemirror_mode": {
    "name": "ipython",
    "version": 3
   },
   "file_extension": ".py",
   "mimetype": "text/x-python",
   "name": "python",
   "nbconvert_exporter": "python",
   "pygments_lexer": "ipython3",
   "version": "3.8.8"
  }
 },
 "nbformat": 4,
 "nbformat_minor": 5
}
